{
 "cells": [
  {
   "cell_type": "markdown",
   "id": "00e1d814-76de-4153-ada0-929ca277d971",
   "metadata": {},
   "source": [
    "# Pandas e suas funcionalidades"
   ]
  },
  {
   "cell_type": "markdown",
   "id": "13eb1a3a-007c-4326-8b82-6ea1fc36a787",
   "metadata": {},
   "source": [
    "Pandas é uma poderosa biblioteca de Python amplamente utilizada para análise de dados. Ela oferece estruturas de dados flexíveis e ferramentas eficientes para explorar, manipular e analisar dados tabulares. Com o Pandas, é possível realizar tarefas como leitura de dados, filtragem, agregação e visualização de forma simples e eficaz. Sendo uma ferramenta fundamental para o tratamento de dados."
   ]
  },
  {
   "cell_type": "markdown",
   "id": "7d26cf49-6de9-4e83-b66e-03e48ae8cacc",
   "metadata": {},
   "source": [
    "## Passos iniciais"
   ]
  },
  {
   "cell_type": "markdown",
   "id": "c22bbe5d-5275-485c-8758-2883ba238ce5",
   "metadata": {},
   "source": [
    "Antes de começar a utilizá-lo, é necessário ter instalado em sua máquina a versão mais recente do Python 3."
   ]
  },
  {
   "cell_type": "markdown",
   "id": "4f8afa62-d680-49d0-9243-3bf0f6d78587",
   "metadata": {},
   "source": [
    "Feita a instalação do Python 3, no prompt de comando ou terminal do linux, digite a seguinte linha de comando:"
   ]
  },
  {
   "cell_type": "code",
   "execution_count": null,
   "id": "b3a1f575-ccd5-41a2-9e4d-48740ca0483d",
   "metadata": {},
   "outputs": [],
   "source": [
    "pip install pandas"
   ]
  },
  {
   "cell_type": "markdown",
   "id": "e0bc52da-6392-4739-afe9-2763c8d119d2",
   "metadata": {},
   "source": [
    "A biblioteca será instalada em sua máquina. Para utilizá-lo no seu código, basta importar sua biblioteca:"
   ]
  },
  {
   "cell_type": "code",
   "execution_count": null,
   "id": "474a955f-d835-407e-8760-b41ce61b514c",
   "metadata": {},
   "outputs": [],
   "source": [
    "import pandas as pd"
   ]
  },
  {
   "cell_type": "markdown",
   "id": "ea092ecf-2c3a-40d1-99ef-d96b820af9af",
   "metadata": {},
   "source": [
    "## Representação de tabelas em Pandas"
   ]
  },
  {
   "cell_type": "markdown",
   "id": "cf5e4aac-f103-46ee-84b9-7d334aebf9a8",
   "metadata": {},
   "source": [
    "Em Pandas, um DataFrame é uma estrutura de dados bidimensional tabular que se assemelha a uma tabela ou planilha. Ele é a estrutura de dados mais comumente usada na biblioteca e é projetado para armazenar e manipular dados de forma eficiente. O DataFrame é organizado em linhas (rows) e colunas (column), onde cada coluna pode conter diferentes tipos de dados, como números, strings, datas, etc."
   ]
  },
  {
   "cell_type": "markdown",
   "id": "fb1b4705-18e6-4e9d-a173-9a81cc6a97ea",
   "metadata": {},
   "source": [
    "![DataFrame](https://pandas.pydata.org/docs/_images/01_table_dataframe.svg)"
   ]
  },
  {
   "cell_type": "markdown",
   "id": "9060b6c7-a027-42eb-b35d-bf422770f0db",
   "metadata": {},
   "source": [
    "Para criar um DataFrame local, basta utilizar: `variável = pd.DataFrame()`. Segue um exemplo de DataFrame criado localmente:"
   ]
  },
  {
   "cell_type": "code",
   "execution_count": 13,
   "id": "5bdf413b-38fc-4aad-8178-7af7197ba986",
   "metadata": {},
   "outputs": [
    {
     "name": "stdout",
     "output_type": "stream",
     "text": [
      "    nome  idade sexo\n",
      "0   João     18    M\n",
      "1  Maria     20    F\n",
      "2   José     25    M\n"
     ]
    }
   ],
   "source": [
    "import pandas as pd\n",
    "\n",
    "tabela = pd.DataFrame({\n",
    "    'nome': ['João', 'Maria', 'José'],\n",
    "    'idade': [18, 20, 25],\n",
    "    'sexo': ['M', 'F', 'M']\n",
    "})\n",
    "\n",
    "print(tabela)"
   ]
  },
  {
   "cell_type": "markdown",
   "id": "dbddb2da-1756-484b-bf6f-e7e173df35b7",
   "metadata": {},
   "source": [
    "Neste exemplo é criada uma tabela com três linhas e três colunas contendo nome, idade e sexo. A coluna do nome representa dados textuais, idade como dados numéricos e o sexo como dados textuais. Veja que é possível visualizar os tipos de dados utilizando o atributo `.dtypes`."
   ]
  },
  {
   "cell_type": "code",
   "execution_count": 14,
   "id": "c5dac468-558f-4364-9809-51b6772e9a0b",
   "metadata": {},
   "outputs": [
    {
     "name": "stdout",
     "output_type": "stream",
     "text": [
      "nome     object\n",
      "idade     int64\n",
      "sexo     object\n",
      "dtype: object\n"
     ]
    }
   ],
   "source": [
    "import pandas as pd\n",
    "\n",
    "tabela = pd.DataFrame({\n",
    "    'nome': ['João', 'Maria', 'José'],\n",
    "    'idade': [18, 20, 25],\n",
    "    'sexo': ['M', 'F', 'M']\n",
    "})\n",
    "\n",
    "print(tabela.dtypes)"
   ]
  },
  {
   "cell_type": "markdown",
   "id": "a2e211d8-fe99-48d1-9f07-36de6231ac9b",
   "metadata": {},
   "source": [
    "Onde \"object\" representa uma string e \"int64\" representa os inteiros. \n",
    "Um DataFrame do Pandas é capaz de representar diversos tipos de dados, incluindo numéricos (inteiros e ponto flutuante), categóricos, booleanos, texto, datas, durações, objetos e valores nulos (NaN). A flexibilidade do Pandas permite especificar o tipo de dado para cada coluna, e ele pode inferir automaticamente o tipo com base nos valores fornecidos."
   ]
  },
  {
   "cell_type": "markdown",
   "id": "417cc7a1-3f4f-407d-bd8a-94222962e6b7",
   "metadata": {},
   "source": [
    "Em Pandas é possível escolher com quais dados trabalhar na tabela. Reutilizando o mesmo código acima, é possível mostrar apenas a idade do DataFrame:"
   ]
  },
  {
   "cell_type": "code",
   "execution_count": 15,
   "id": "da841c9b-cbff-4c22-882c-4574485659d0",
   "metadata": {},
   "outputs": [
    {
     "name": "stdout",
     "output_type": "stream",
     "text": [
      "0    18\n",
      "1    20\n",
      "2    25\n",
      "Name: idade, dtype: int64\n"
     ]
    }
   ],
   "source": [
    "import pandas as pd\n",
    "\n",
    "tabela = pd.DataFrame({\n",
    "    'nome': ['João', 'Maria', 'José'],\n",
    "    'idade': [18, 20, 25],\n",
    "    'sexo': ['M', 'F', 'M']\n",
    "})\n",
    "\n",
    "idade = tabela['idade']\n",
    "\n",
    "print(idade)"
   ]
  },
  {
   "cell_type": "markdown",
   "id": "ccdea8d9-fad9-47fa-845a-1fd9ee6629e6",
   "metadata": {},
   "source": [
    "Também é possível pegar a idade máxima ou mínima da tabela, independente do seu tamanho, utilizando os métodos `max()` ou `min()`."
   ]
  },
  {
   "cell_type": "code",
   "execution_count": 16,
   "id": "ce9be841-cf1a-4955-b750-1856824dd12a",
   "metadata": {},
   "outputs": [
    {
     "name": "stdout",
     "output_type": "stream",
     "text": [
      "Idade mínima:  18\n",
      "Idade máxima:  25\n"
     ]
    }
   ],
   "source": [
    "import pandas as pd\n",
    "\n",
    "tabela = pd.DataFrame({\n",
    "    'nome': ['João', 'Maria', 'José', 'Pedro'],\n",
    "    'idade': [18, 20, 25, 18],\n",
    "    'sexo': ['M', 'F', 'M', 'M']\n",
    "})\n",
    "\n",
    "idade = tabela['idade']\n",
    "\n",
    "print(\"Idade mínima: \", idade.min())\n",
    "print(\"Idade máxima: \", idade.max())"
   ]
  },
  {
   "cell_type": "markdown",
   "id": "af351d7f-b296-4258-ba0b-7e0104c99df8",
   "metadata": {},
   "source": [
    "### Tome nota"
   ]
  },
  {
   "cell_type": "markdown",
   "id": "818a7552-67f7-4cf8-b107-34373db3b215",
   "metadata": {},
   "source": [
    "A única limitação de memória da biblioteca é a própria memória da máquina utilizada ou limitações de formatos de arquivos utilizados."
   ]
  },
  {
   "cell_type": "markdown",
   "id": "aac97ff3-a50c-4ff8-803b-ca93fd0791c5",
   "metadata": {},
   "source": [
    "O método `describe()` fornece uma visão geral rápida dos dados numéricos em um DataFrame. **ATENÇÃO!** Como as colunas Nome e Sexo são dados textuais, por padrão não são levados em consideração pelo método `describe()`."
   ]
  },
  {
   "cell_type": "code",
   "execution_count": 17,
   "id": "d7cd7d44-d6cf-4ac1-a752-239060fb798f",
   "metadata": {},
   "outputs": [
    {
     "name": "stdout",
     "output_type": "stream",
     "text": [
      "           idade\n",
      "count   4.000000\n",
      "mean   20.250000\n",
      "std     3.304038\n",
      "min    18.000000\n",
      "25%    18.000000\n",
      "50%    19.000000\n",
      "75%    21.250000\n",
      "max    25.000000\n"
     ]
    }
   ],
   "source": [
    "import pandas as pd\n",
    "\n",
    "tabela = pd.DataFrame({\n",
    "    'nome': ['João', 'Maria', 'José', 'Pedro'],\n",
    "    'idade': [18, 20, 25, 18],\n",
    "    'sexo': ['M', 'F', 'M', 'M']\n",
    "})\n",
    "\n",
    "print(tabela.describe())"
   ]
  },
  {
   "cell_type": "markdown",
   "id": "b268019f-f95c-4e73-99b3-a80df929bfb1",
   "metadata": {},
   "source": [
    "## Leitura e conversão de dados tabulares"
   ]
  },
  {
   "cell_type": "markdown",
   "id": "e3eb9389-537b-44a2-bb44-616595b5142a",
   "metadata": {},
   "source": [
    "Aprofundando um pouco mais essa biblioteca, entramos na parte da leitura de dados tabulares. Por sua incrível versatilidade, Pandas tem suporte para diversos formatos de arquivos, tanto para leitura ou conversão. Alguns deles são: CSV, Excel, SQL, JSON, HDF5, Parquet, ORC e Msgpack. Não necessariamente esses arquivos precisam estar presentes em uma máquina local, sendo possível trabalhar com arquivos na nuvem, por exemplo. "
   ]
  },
  {
   "cell_type": "markdown",
   "id": "4194f9d2-da7a-4c3d-b9b3-1ed32398087d",
   "metadata": {},
   "source": [
    "Para fazer a leitura de um arquivo, basta utilizar o método `pd.read_(formato do arquivo)`. Por exemplo, `pd.read_csv()`, onde a biblioteca fará a leitura de um arquivo no formato CSV."
   ]
  },
  {
   "cell_type": "markdown",
   "id": "90262456-7b40-476a-adf8-475dcbcfa3a5",
   "metadata": {},
   "source": [
    "### Problema do Titanic"
   ]
  },
  {
   "cell_type": "markdown",
   "id": "8d5b933d-ab7f-4fc5-a0ed-9a58a71e5f69",
   "metadata": {},
   "source": [
    "Utilizando o método `read_*`, é possível, por exemplo, ler um arquivo que contém uma tabela com dados de centenas passageiros presentes no titanic da seguinte maneira:"
   ]
  },
  {
   "cell_type": "code",
   "execution_count": 18,
   "id": "6d88a31b-c69d-4560-8386-f5793b2edf62",
   "metadata": {},
   "outputs": [
    {
     "name": "stdout",
     "output_type": "stream",
     "text": [
      "     PassengerId  Survived  Pclass  \\\n",
      "0              1         0       3   \n",
      "1              2         1       1   \n",
      "2              3         1       3   \n",
      "3              4         1       1   \n",
      "4              5         0       3   \n",
      "..           ...       ...     ...   \n",
      "886          887         0       2   \n",
      "887          888         1       1   \n",
      "888          889         0       3   \n",
      "889          890         1       1   \n",
      "890          891         0       3   \n",
      "\n",
      "                                                  Name     Sex   Age  SibSp  \\\n",
      "0                              Braund, Mr. Owen Harris    male  22.0      1   \n",
      "1    Cumings, Mrs. John Bradley (Florence Briggs Th...  female  38.0      1   \n",
      "2                               Heikkinen, Miss. Laina  female  26.0      0   \n",
      "3         Futrelle, Mrs. Jacques Heath (Lily May Peel)  female  35.0      1   \n",
      "4                             Allen, Mr. William Henry    male  35.0      0   \n",
      "..                                                 ...     ...   ...    ...   \n",
      "886                              Montvila, Rev. Juozas    male  27.0      0   \n",
      "887                       Graham, Miss. Margaret Edith  female  19.0      0   \n",
      "888           Johnston, Miss. Catherine Helen \"Carrie\"  female   NaN      1   \n",
      "889                              Behr, Mr. Karl Howell    male  26.0      0   \n",
      "890                                Dooley, Mr. Patrick    male  32.0      0   \n",
      "\n",
      "     Parch            Ticket     Fare Cabin Embarked  \n",
      "0        0         A/5 21171   7.2500   NaN        S  \n",
      "1        0          PC 17599  71.2833   C85        C  \n",
      "2        0  STON/O2. 3101282   7.9250   NaN        S  \n",
      "3        0            113803  53.1000  C123        S  \n",
      "4        0            373450   8.0500   NaN        S  \n",
      "..     ...               ...      ...   ...      ...  \n",
      "886      0            211536  13.0000   NaN        S  \n",
      "887      0            112053  30.0000   B42        S  \n",
      "888      2        W./C. 6607  23.4500   NaN        S  \n",
      "889      0            111369  30.0000  C148        C  \n",
      "890      0            370376   7.7500   NaN        Q  \n",
      "\n",
      "[891 rows x 12 columns]\n"
     ]
    }
   ],
   "source": [
    "import pandas as pd\n",
    "\n",
    "titanic = pd.read_csv(\"https://raw.githubusercontent.com/pandas-dev/pandas/main/doc/data/titanic.csv\")\n",
    "print(titanic)"
   ]
  },
  {
   "cell_type": "markdown",
   "id": "27559955-e3d3-4ac8-88cb-5184e2e7733f",
   "metadata": {},
   "source": [
    "Note que a tabela possui 891 linhas e 12 colunas. Note também que o programa não mostra todos os dados. Para efeitos de visualização, é possível limitar a quantidade de linhas visíveis para o usuário utilizando os métodos `head()` e `tail()`. Sendo que, o head mostrará os dados iniciais da tabela e o tail mostrará os dados finais da tabela."
   ]
  },
  {
   "cell_type": "markdown",
   "id": "b8323f74-2d43-4184-b881-ee7da5628593",
   "metadata": {},
   "source": [
    "A partir desses dois métodos, é possível limitar a quantidade de linhas visíveis. Segue um exemplo em que o arquivo está restrito a mostrar apenas as dez primeiras linhas da tabela utilizando o método `head(10)`:"
   ]
  },
  {
   "cell_type": "code",
   "execution_count": 3,
   "id": "4f350733-1f19-46bd-935e-6622b30e36de",
   "metadata": {},
   "outputs": [
    {
     "name": "stdout",
     "output_type": "stream",
     "text": [
      "   PassengerId  Survived  Pclass  \\\n",
      "0            1         0       3   \n",
      "1            2         1       1   \n",
      "2            3         1       3   \n",
      "3            4         1       1   \n",
      "4            5         0       3   \n",
      "5            6         0       3   \n",
      "6            7         0       1   \n",
      "7            8         0       3   \n",
      "8            9         1       3   \n",
      "9           10         1       2   \n",
      "\n",
      "                                                Name     Sex   Age  SibSp  \\\n",
      "0                            Braund, Mr. Owen Harris    male  22.0      1   \n",
      "1  Cumings, Mrs. John Bradley (Florence Briggs Th...  female  38.0      1   \n",
      "2                             Heikkinen, Miss. Laina  female  26.0      0   \n",
      "3       Futrelle, Mrs. Jacques Heath (Lily May Peel)  female  35.0      1   \n",
      "4                           Allen, Mr. William Henry    male  35.0      0   \n",
      "5                                   Moran, Mr. James    male   NaN      0   \n",
      "6                            McCarthy, Mr. Timothy J    male  54.0      0   \n",
      "7                     Palsson, Master. Gosta Leonard    male   2.0      3   \n",
      "8  Johnson, Mrs. Oscar W (Elisabeth Vilhelmina Berg)  female  27.0      0   \n",
      "9                Nasser, Mrs. Nicholas (Adele Achem)  female  14.0      1   \n",
      "\n",
      "   Parch            Ticket     Fare Cabin Embarked  \n",
      "0      0         A/5 21171   7.2500   NaN        S  \n",
      "1      0          PC 17599  71.2833   C85        C  \n",
      "2      0  STON/O2. 3101282   7.9250   NaN        S  \n",
      "3      0            113803  53.1000  C123        S  \n",
      "4      0            373450   8.0500   NaN        S  \n",
      "5      0            330877   8.4583   NaN        Q  \n",
      "6      0             17463  51.8625   E46        S  \n",
      "7      1            349909  21.0750   NaN        S  \n",
      "8      2            347742  11.1333   NaN        S  \n",
      "9      0            237736  30.0708   NaN        C  \n"
     ]
    }
   ],
   "source": [
    "import pandas as pd\n",
    "\n",
    "titanic = pd.read_csv(\"https://raw.githubusercontent.com/pandas-dev/pandas/main/doc/data/titanic.csv\")\n",
    "print(titanic.head(10))"
   ]
  },
  {
   "cell_type": "markdown",
   "id": "91b89fb5-937a-4575-9515-ba12a8714a8e",
   "metadata": {},
   "source": [
    "No exemplo acima, são mostradas na tela apenas as dez primeiras linhas do arquivo."
   ]
  },
  {
   "cell_type": "markdown",
   "id": "05bacd0e-1fed-43d7-8907-20fe04c4e11e",
   "metadata": {},
   "source": [
    "O mesmo pode ser feito, porém, mostrando as dez ultimas linhas da tabela utilizando o método `tail(10)`:"
   ]
  },
  {
   "cell_type": "code",
   "execution_count": 4,
   "id": "19b55c24-3b94-45ec-b2a8-2c7127e89b97",
   "metadata": {},
   "outputs": [
    {
     "name": "stdout",
     "output_type": "stream",
     "text": [
      "     PassengerId  Survived  Pclass                                      Name  \\\n",
      "881          882         0       3                        Markun, Mr. Johann   \n",
      "882          883         0       3              Dahlberg, Miss. Gerda Ulrika   \n",
      "883          884         0       2             Banfield, Mr. Frederick James   \n",
      "884          885         0       3                    Sutehall, Mr. Henry Jr   \n",
      "885          886         0       3      Rice, Mrs. William (Margaret Norton)   \n",
      "886          887         0       2                     Montvila, Rev. Juozas   \n",
      "887          888         1       1              Graham, Miss. Margaret Edith   \n",
      "888          889         0       3  Johnston, Miss. Catherine Helen \"Carrie\"   \n",
      "889          890         1       1                     Behr, Mr. Karl Howell   \n",
      "890          891         0       3                       Dooley, Mr. Patrick   \n",
      "\n",
      "        Sex   Age  SibSp  Parch            Ticket     Fare Cabin Embarked  \n",
      "881    male  33.0      0      0            349257   7.8958   NaN        S  \n",
      "882  female  22.0      0      0              7552  10.5167   NaN        S  \n",
      "883    male  28.0      0      0  C.A./SOTON 34068  10.5000   NaN        S  \n",
      "884    male  25.0      0      0   SOTON/OQ 392076   7.0500   NaN        S  \n",
      "885  female  39.0      0      5            382652  29.1250   NaN        Q  \n",
      "886    male  27.0      0      0            211536  13.0000   NaN        S  \n",
      "887  female  19.0      0      0            112053  30.0000   B42        S  \n",
      "888  female   NaN      1      2        W./C. 6607  23.4500   NaN        S  \n",
      "889    male  26.0      0      0            111369  30.0000  C148        C  \n",
      "890    male  32.0      0      0            370376   7.7500   NaN        Q  \n"
     ]
    }
   ],
   "source": [
    "import pandas as pd\n",
    "\n",
    "titanic = pd.read_csv(\"https://raw.githubusercontent.com/pandas-dev/pandas/main/doc/data/titanic.csv\")\n",
    "print(titanic.tail(10))"
   ]
  },
  {
   "cell_type": "markdown",
   "id": "8c47ea80-166f-4281-b543-cde62050680c",
   "metadata": {},
   "source": [
    "O método `info()` mostra informações detalhadas do DataFrame:"
   ]
  },
  {
   "cell_type": "code",
   "execution_count": 5,
   "id": "d4ff019a-41b1-4105-8202-45a3efe14f6a",
   "metadata": {},
   "outputs": [
    {
     "name": "stdout",
     "output_type": "stream",
     "text": [
      "<class 'pandas.core.frame.DataFrame'>\n",
      "RangeIndex: 891 entries, 0 to 890\n",
      "Data columns (total 12 columns):\n",
      " #   Column       Non-Null Count  Dtype  \n",
      "---  ------       --------------  -----  \n",
      " 0   PassengerId  891 non-null    int64  \n",
      " 1   Survived     891 non-null    int64  \n",
      " 2   Pclass       891 non-null    int64  \n",
      " 3   Name         891 non-null    object \n",
      " 4   Sex          891 non-null    object \n",
      " 5   Age          714 non-null    float64\n",
      " 6   SibSp        891 non-null    int64  \n",
      " 7   Parch        891 non-null    int64  \n",
      " 8   Ticket       891 non-null    object \n",
      " 9   Fare         891 non-null    float64\n",
      " 10  Cabin        204 non-null    object \n",
      " 11  Embarked     889 non-null    object \n",
      "dtypes: float64(2), int64(5), object(5)\n",
      "memory usage: 83.7+ KB\n",
      "None\n"
     ]
    }
   ],
   "source": [
    "import pandas as pd\n",
    "\n",
    "titanic = pd.read_csv(\"https://raw.githubusercontent.com/pandas-dev/pandas/main/doc/data/titanic.csv\")\n",
    "print(titanic.info())"
   ]
  },
  {
   "cell_type": "markdown",
   "id": "6c180ea3-1e96-46b2-a6a4-103a1f964267",
   "metadata": {},
   "source": [
    "Com base no método info(), é possível extrair informações detalhadas do arquivo acima:\n",
    "\n",
    "- Existem 891 entradas, ou seja, 891 linhas.\n",
    "- Cada linha possui uma numeração (também conhecido como índice) com valores que variam de 0 a 890.\n",
    "- A tabela possui 12 colunas. A maioria das colunas possui um valor para cada uma das linhas (todos os 891 valores não são nulos). Algumas colunas possuem valores ausentes e menos de 891 valores não nulos.\n",
    "- As colunas Name, Sex, Cabin e Embarked consistem em dados textuais (strings, também conhecidos como objeto). As outras colunas são dados numéricos, alguns deles números inteiros (também conhecidos como inteiros) e outros são números reais (também conhecidos como flutuantes).\n",
    "- A quantidade aproximada de memória armazenada no DataFrame também é fornecida."
   ]
  },
  {
   "cell_type": "markdown",
   "id": "5ed71981-b0ff-49e2-85cd-0f762242b87e",
   "metadata": {},
   "source": [
    "Além do método `read()`, existe também o método `to_(tipo de arquivo)` que faz a conversão de um tipo de arquivo para outro."
   ]
  },
  {
   "cell_type": "markdown",
   "id": "85cd1d71-5428-46dd-9724-28d4c7c14e58",
   "metadata": {},
   "source": [
    "É possível selecionar colunas específicas do DataFrame. Para selecionar uma única coluna, basta utilizar colchetes [ ] com o nome da coluna de interesse."
   ]
  },
  {
   "cell_type": "code",
   "execution_count": 6,
   "id": "1868c275-6f17-4184-b059-7f465d20c630",
   "metadata": {},
   "outputs": [
    {
     "name": "stdout",
     "output_type": "stream",
     "text": [
      "0      22.0\n",
      "1      38.0\n",
      "2      26.0\n",
      "3      35.0\n",
      "4      35.0\n",
      "       ... \n",
      "886    27.0\n",
      "887    19.0\n",
      "888     NaN\n",
      "889    26.0\n",
      "890    32.0\n",
      "Name: Age, Length: 891, dtype: float64\n"
     ]
    }
   ],
   "source": [
    "import pandas as pd\n",
    "\n",
    "titanic = pd.read_csv(\"https://raw.githubusercontent.com/pandas-dev/pandas/main/doc/data/titanic.csv\")\n",
    "ages = titanic[\"Age\"]\n",
    "\n",
    "print(ages)"
   ]
  },
  {
   "cell_type": "markdown",
   "id": "eadf99a7-cd7c-41c2-a870-fa1483d8d89a",
   "metadata": {},
   "source": [
    "No exemplo acima, apenas a coluna \"Age\" é selecionada."
   ]
  },
  {
   "cell_type": "markdown",
   "id": "3fb9f8d4-9c29-4ab8-a978-dfb9b7a6a35d",
   "metadata": {},
   "source": [
    "Há também o atributo `.shape` responsável por mostrar a dimensão da tabela que está sendo trabalhada."
   ]
  },
  {
   "cell_type": "code",
   "execution_count": 7,
   "id": "cfd61fb2-c986-40a0-af44-f133e60abfc5",
   "metadata": {},
   "outputs": [
    {
     "name": "stdout",
     "output_type": "stream",
     "text": [
      "(891, 12)\n"
     ]
    }
   ],
   "source": [
    "import pandas as pd\n",
    "\n",
    "titanic = pd.read_csv(\"https://raw.githubusercontent.com/pandas-dev/pandas/main/doc/data/titanic.csv\")\n",
    "print(titanic.shape)"
   ]
  },
  {
   "cell_type": "markdown",
   "id": "f0ed2a10-6328-4714-aa8c-3f16bffa1233",
   "metadata": {},
   "source": [
    "Pegando o shape de todo o arquivo CSV, temos 891 linhas e 12 colunas."
   ]
  },
  {
   "cell_type": "code",
   "execution_count": 8,
   "id": "3b433537-324f-4bc3-bbd6-70348f74df44",
   "metadata": {},
   "outputs": [
    {
     "name": "stdout",
     "output_type": "stream",
     "text": [
      "(891, 2)\n"
     ]
    }
   ],
   "source": [
    "import pandas as pd\n",
    "\n",
    "titanic = pd.read_csv(\"https://raw.githubusercontent.com/pandas-dev/pandas/main/doc/data/titanic.csv\")\n",
    "age_sex = titanic[[\"Age\", \"Sex\"]]\n",
    "\n",
    "print(age_sex.shape)"
   ]
  },
  {
   "cell_type": "markdown",
   "id": "6d0d6e75-5548-4283-a212-42f6d5f98b13",
   "metadata": {},
   "source": [
    "Limitando a apenas \"Age\" e \"Sex\", temos 891 linhas e 2 colunas."
   ]
  },
  {
   "cell_type": "markdown",
   "id": "7544cd6e-1d02-4985-9239-a219a0b558d0",
   "metadata": {},
   "source": [
    "Também é possível colocar condições no DataFrame. Para selecionar linhas com base em uma expressão condicional, use uma condição entre colchetes [ ]. Por exemplo, é possível listar apenas os passageiros maiores de 35 anos."
   ]
  },
  {
   "cell_type": "code",
   "execution_count": 9,
   "id": "101ec087-eb43-492f-8960-8de64d26c3eb",
   "metadata": {},
   "outputs": [
    {
     "name": "stdout",
     "output_type": "stream",
     "text": [
      "     PassengerId  Survived  Pclass  \\\n",
      "1              2         1       1   \n",
      "6              7         0       1   \n",
      "11            12         1       1   \n",
      "13            14         0       3   \n",
      "15            16         1       2   \n",
      "..           ...       ...     ...   \n",
      "865          866         1       2   \n",
      "871          872         1       1   \n",
      "873          874         0       3   \n",
      "879          880         1       1   \n",
      "885          886         0       3   \n",
      "\n",
      "                                                  Name     Sex   Age  SibSp  \\\n",
      "1    Cumings, Mrs. John Bradley (Florence Briggs Th...  female  38.0      1   \n",
      "6                              McCarthy, Mr. Timothy J    male  54.0      0   \n",
      "11                            Bonnell, Miss. Elizabeth  female  58.0      0   \n",
      "13                         Andersson, Mr. Anders Johan    male  39.0      1   \n",
      "15                    Hewlett, Mrs. (Mary D Kingcome)   female  55.0      0   \n",
      "..                                                 ...     ...   ...    ...   \n",
      "865                           Bystrom, Mrs. (Karolina)  female  42.0      0   \n",
      "871   Beckwith, Mrs. Richard Leonard (Sallie Monypeny)  female  47.0      1   \n",
      "873                        Vander Cruyssen, Mr. Victor    male  47.0      0   \n",
      "879      Potter, Mrs. Thomas Jr (Lily Alexenia Wilson)  female  56.0      0   \n",
      "885               Rice, Mrs. William (Margaret Norton)  female  39.0      0   \n",
      "\n",
      "     Parch    Ticket     Fare Cabin Embarked  \n",
      "1        0  PC 17599  71.2833   C85        C  \n",
      "6        0     17463  51.8625   E46        S  \n",
      "11       0    113783  26.5500  C103        S  \n",
      "13       5    347082  31.2750   NaN        S  \n",
      "15       0    248706  16.0000   NaN        S  \n",
      "..     ...       ...      ...   ...      ...  \n",
      "865      0    236852  13.0000   NaN        S  \n",
      "871      1     11751  52.5542   D35        S  \n",
      "873      0    345765   9.0000   NaN        S  \n",
      "879      1     11767  83.1583   C50        C  \n",
      "885      5    382652  29.1250   NaN        Q  \n",
      "\n",
      "[217 rows x 12 columns]\n"
     ]
    }
   ],
   "source": [
    "import pandas as pd\n",
    "\n",
    "titanic = pd.read_csv(\"https://raw.githubusercontent.com/pandas-dev/pandas/main/doc/data/titanic.csv\")\n",
    "ages = titanic[titanic[\"Age\"] > 35]\n",
    "\n",
    "print(ages)"
   ]
  },
  {
   "cell_type": "markdown",
   "id": "fe982a53-48df-42b3-940a-38ec91313ac2",
   "metadata": {},
   "source": [
    "Veja que, dos 891 passageiros, apenas 217 tem mais de 35 anos."
   ]
  },
  {
   "cell_type": "markdown",
   "id": "c5f49fe5-3508-4c45-9f70-fc0d9c4b92e5",
   "metadata": {},
   "source": [
    "A saída da expressão condicional (>, porém ==, !=, <, <=,… funcionaria) é na verdade uma série de valores booleanos (Verdadeiro ou Falso) com o mesmo número de linhas que o DataFrame original. Essa série de valores booleanos pode ser usada para filtrar o DataFrame, colocando-o entre os colchetes [ ]. Onde somente as linhas cujo valor for verdadeiro serão selecionadas."
   ]
  },
  {
   "cell_type": "markdown",
   "id": "26a4897b-f14c-421d-9cb9-648c0b489f78",
   "metadata": {},
   "source": [
    "Para finalizar, existem dois operadores chamados `.loc` e `iloc` que servem para acessar e selecionar dados de um DataFrame. Elas permitem que você especifique quais linhas e colunas deseja selecionar, facilitando a recuperação de dados específicos do DataFrame.  A sintaxe geral é `DataFrame.loc[linhas, colunas]`, onde linhas e colunas podem ser rótulos únicos, listas de rótulos ou fatias (slices)."
   ]
  },
  {
   "cell_type": "markdown",
   "id": "8dbf8ee7-541d-4615-bae1-6a74313e94d4",
   "metadata": {},
   "source": [
    "Por exemplo, deseja-se mostrar apenas as linhas de 10 a 25 e colunas de 3 a 5."
   ]
  },
  {
   "cell_type": "code",
   "execution_count": 10,
   "id": "df988aca-650c-4ca2-8d10-26f88f9f9e6d",
   "metadata": {},
   "outputs": [
    {
     "name": "stdout",
     "output_type": "stream",
     "text": [
      "    Pclass                                               Name     Sex\n",
      "9        2                Nasser, Mrs. Nicholas (Adele Achem)  female\n",
      "10       3                    Sandstrom, Miss. Marguerite Rut  female\n",
      "11       1                           Bonnell, Miss. Elizabeth  female\n",
      "12       3                     Saundercock, Mr. William Henry    male\n",
      "13       3                        Andersson, Mr. Anders Johan    male\n",
      "14       3               Vestrom, Miss. Hulda Amanda Adolfina  female\n",
      "15       2                   Hewlett, Mrs. (Mary D Kingcome)   female\n",
      "16       3                               Rice, Master. Eugene    male\n",
      "17       2                       Williams, Mr. Charles Eugene    male\n",
      "18       3  Vander Planke, Mrs. Julius (Emelia Maria Vande...  female\n",
      "19       3                            Masselmani, Mrs. Fatima  female\n",
      "20       2                               Fynney, Mr. Joseph J    male\n",
      "21       2                              Beesley, Mr. Lawrence    male\n",
      "22       3                        McGowan, Miss. Anna \"Annie\"  female\n",
      "23       1                       Sloper, Mr. William Thompson    male\n",
      "24       3                      Palsson, Miss. Torborg Danira  female\n"
     ]
    }
   ],
   "source": [
    "import pandas as pd\n",
    "\n",
    "titanic = pd.read_csv(\"https://raw.githubusercontent.com/pandas-dev/pandas/main/doc/data/titanic.csv\")\n",
    "print(titanic.iloc[9:25, 2:5])"
   ]
  },
  {
   "cell_type": "markdown",
   "id": "d05e7a2b-4631-473e-b766-9a401ca025c5",
   "metadata": {},
   "source": [
    "Um subconjunto de linhas e colunas é criado de uma só vez e apenas usar colchetes de seleção [] não é mais suficiente. Quando estiver especificamente interessado em determinadas linhas e/ou colunas com base em sua posição na tabela, use o operador `iloc` na frente dos colchetes de seleção []."
   ]
  },
  {
   "cell_type": "markdown",
   "id": "36fcb735-68c7-45e7-82cc-52441c460a7b",
   "metadata": {},
   "source": [
    "Ao selecionar linhas e/ou colunas específicas com `loc` ou `iloc`, novos valores podem ser atribuídos aos dados selecionados. Por exemplo, para atribuir o nome \"anonymous\" aos 3 primeiros elementos coluna \"Name\":"
   ]
  },
  {
   "cell_type": "code",
   "execution_count": 11,
   "id": "c71da6e6-8031-4a86-9191-1ef0447de50f",
   "metadata": {},
   "outputs": [
    {
     "name": "stdout",
     "output_type": "stream",
     "text": [
      "   PassengerId  Survived  Pclass  \\\n",
      "0            1         0       3   \n",
      "1            2         1       1   \n",
      "2            3         1       3   \n",
      "3            4         1       1   \n",
      "\n",
      "                                           Name     Sex   Age  SibSp  Parch  \\\n",
      "0                                     anonymous    male  22.0      1      0   \n",
      "1                                     anonymous  female  38.0      1      0   \n",
      "2                                     anonymous  female  26.0      0      0   \n",
      "3  Futrelle, Mrs. Jacques Heath (Lily May Peel)  female  35.0      1      0   \n",
      "\n",
      "             Ticket     Fare Cabin Embarked  \n",
      "0         A/5 21171   7.2500   NaN        S  \n",
      "1          PC 17599  71.2833   C85        C  \n",
      "2  STON/O2. 3101282   7.9250   NaN        S  \n",
      "3            113803  53.1000  C123        S  \n"
     ]
    }
   ],
   "source": [
    "import pandas as pd\n",
    "\n",
    "titanic = pd.read_csv(\"https://raw.githubusercontent.com/pandas-dev/pandas/main/doc/data/titanic.csv\")\n",
    "titanic.iloc[0:3, 3] = \"anonymous\"\n",
    "print(titanic.head(4))"
   ]
  },
  {
   "cell_type": "markdown",
   "id": "3c7cf523-676d-41d5-a4a1-60b24014ea1a",
   "metadata": {},
   "source": [
    "## Links úteis"
   ]
  },
  {
   "cell_type": "markdown",
   "id": "e9022f7f-5416-4d64-b746-b54ec0319c9c",
   "metadata": {},
   "source": [
    "[Documentação da biblioteca](https://pandas.pydata.org/docs/index.html)\n",
    "\n",
    "[Pandas Python: vantagens e como começar](https://harve.com.br/blog/programacao-python-blog/pandas-python-vantagens-e-como-comecar/).\n",
    "\n",
    "[Tutorial W3Schools](https://www.w3schools.com/python/pandas/default.asp)\n"
   ]
  }
 ],
 "metadata": {
  "kernelspec": {
   "display_name": "Python 3 (ipykernel)",
   "language": "python",
   "name": "python3"
  },
  "language_info": {
   "codemirror_mode": {
    "name": "ipython",
    "version": 3
   },
   "file_extension": ".py",
   "mimetype": "text/x-python",
   "name": "python",
   "nbconvert_exporter": "python",
   "pygments_lexer": "ipython3",
   "version": "3.11.5"
  }
 },
 "nbformat": 4,
 "nbformat_minor": 5
}
