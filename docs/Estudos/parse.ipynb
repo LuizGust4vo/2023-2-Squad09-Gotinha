{
 "cells": [
  {
   "cell_type": "code",
   "execution_count": 1,
   "metadata": {},
   "outputs": [
    {
     "name": "stdout",
     "output_type": "stream",
     "text": [
      "A soma de 15 e 4 é 19.\n"
     ]
    }
   ],
   "source": [
    "import argparse\n",
    "\n",
    "# Criação de um objeto ArgumentParser\n",
    "parser = argparse.ArgumentParser(description='Calcula a soma de dois números.')\n",
    "\n",
    "# Definição dos argumentos internos\n",
    "parser.add_argument('--numero1', type=int, default=15, help='O primeiro número inteiro.')\n",
    "parser.add_argument('--numero2', type=int, default=4, help='O segundo número inteiro.')\n",
    "\n",
    "# Análise dos argumentos\n",
    "args = parser.parse_args([])\n",
    "\n",
    "# Realiza a operação e imprime o resultado\n",
    "soma = args.numero1 + args.numero2\n",
    "print(f'A soma de {args.numero1} e {args.numero2} é {soma}.')\n"
   ]
  },
  {
   "cell_type": "code",
   "execution_count": 2,
   "metadata": {},
   "outputs": [
    {
     "name": "stdout",
     "output_type": "stream",
     "text": [
      "Data encontrada: 12/09/2023\n",
      "Data encontrada: 13/09/2023\n"
     ]
    }
   ],
   "source": [
    "import re\n",
    "\n",
    "# Texto de entrada\n",
    "texto = \"Hoje é 12/09/2023 e amanhã será 13/09/2023.\"\n",
    "\n",
    "# Definir uma expressão regular para encontrar datas no formato \"DD/MM/AAAA\"\n",
    "padrao = r'\\d{2}/\\d{2}/\\d{4}'\n",
    "\n",
    "# Usar a função findall para encontrar todas as datas no texto\n",
    "datas_encontradas = re.findall(padrao, texto)\n",
    "\n",
    "# Exibir as datas encontradas\n",
    "for data in datas_encontradas:\n",
    "    print(\"Data encontrada:\", data)"
   ]
  },
  {
   "cell_type": "code",
   "execution_count": 3,
   "metadata": {},
   "outputs": [
    {
     "name": "stdout",
     "output_type": "stream",
     "text": [
      "Nome: Maçã, Cor: Vermelha\n",
      "Nome: Banana, Cor: Amarela\n"
     ]
    }
   ],
   "source": [
    "import xml.etree.ElementTree as ET\n",
    "\n",
    "# Definir um documento XML de exemplo\n",
    "xml_data = '''\n",
    "<frutas>\n",
    "    <fruta>\n",
    "        <nome>Maçã</nome>\n",
    "        <cor>Vermelha</cor>\n",
    "    </fruta>\n",
    "    <fruta>\n",
    "        <nome>Banana</nome>\n",
    "        <cor>Amarela</cor>\n",
    "    </fruta>\n",
    "</frutas>\n",
    "'''\n",
    "\n",
    "# Analisar o documento XML\n",
    "root = ET.fromstring(xml_data)\n",
    "\n",
    "# Iterar pelas frutas e extrair informações\n",
    "for fruta in root.findall('fruta'):\n",
    "    nome = fruta.find('nome').text\n",
    "    cor = fruta.find('cor').text\n",
    "    print(f'Nome: {nome}, Cor: {cor}')\n"
   ]
  }
 ],
 "metadata": {
  "kernelspec": {
   "display_name": "Python 3",
   "language": "python",
   "name": "python3"
  },
  "language_info": {
   "codemirror_mode": {
    "name": "ipython",
    "version": 3
   },
   "file_extension": ".py",
   "mimetype": "text/x-python",
   "name": "python",
   "nbconvert_exporter": "python",
   "pygments_lexer": "ipython3",
   "version": "3.10.12"
  },
  "orig_nbformat": 4
 },
 "nbformat": 4,
 "nbformat_minor": 2
}
