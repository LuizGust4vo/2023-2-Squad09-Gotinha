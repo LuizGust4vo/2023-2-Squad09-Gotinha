{
 "cells": [
  {
   "cell_type": "code",
   "execution_count": 43,
   "metadata": {},
   "outputs": [
    {
     "name": "stdout",
     "output_type": "stream",
     "text": [
      "Aparição em 8167_16 de novembro de 2023.txt, posição 3292: Palavra 'saúde' encontrada com contexto: \n",
      "Municipal de Saúde, no valor de R$ 500.000,00.\n",
      "O PREFEITO DE GOIÂNIA, no uso de suas\n",
      "Aparição em 8167_16 de novembro de 2023.txt, posição 3563: Palavra 'saúde' encontrada com contexto: FUNDO MUNICIPAL DE SAÚDE\n",
      "CLASSIFICAÇÃO FUNCIONAL-PROGRAMÁTICA VALOR (R$)\n",
      "2150 10.302.0094.2782.33903900.102 527 1500 1002 R$ 500.000,00\n",
      "TOTAL\n",
      "Aparição em 8161_07 de novembro de 2023.txt, posição 114183: Palavra 'saúde' encontrada com contexto: Secretaria Municipal de Saúde de Goiânia .\n",
      "ITEM DESCRIÇÃOUNIDADE DE\n",
      "MEDIDAQTDE.(R$) V ALOR UNITÁRIO (R$) V\n",
      "Aparição em 8169_20 de novembro de 2023.txt, posição 6020: Palavra 'saúde' encontrada com contexto: Municipal de\n",
      "Saúde, no valor de R$ 67.950.000,00.\n",
      "O PREFEITO DE GOIÂNIA, no uso de suas\n",
      "Aparição em 8169_20 de novembro de 2023.txt, posição 6301: Palavra 'saúde' encontrada com contexto: FUNDO MUNICIPAL DE SAÚDE\n",
      "CLASSIFICAÇÃO FUNCIONAL-PROGRAMÁTICA VALOR (R$)\n",
      "2150 10.122.0092.2779.31901100.102 527 1500 1002 R$ 60.000.000,00\n",
      "2150\n"
     ]
    }
   ],
   "source": [
    "import os\n",
    "import spacy\n",
    "\n",
    "# Carregar o modelo de linguagem em português\n",
    "nlp = spacy.load(\"pt_core_news_sm\")\n",
    "\n",
    "# Obtém o diretório do script (no contexto do Jupyter Notebook, use os.getcwd())\n",
    "script_dir = os.getcwd()\n",
    "\n",
    "# Caminho para a pasta contendo os arquivos TXT\n",
    "pasta_diarios = os.path.join(script_dir, 'Diários em txt')\n",
    "\n",
    "# Conjunto para armazenar contextos já registrados\n",
    "contextos_registrados = set()\n",
    "\n",
    "# Itera sobre cada arquivo na pasta\n",
    "for arquivo_nome in os.listdir(pasta_diarios):\n",
    "    if arquivo_nome.endswith('.txt'):\n",
    "        arquivo_path = os.path.join(pasta_diarios, arquivo_nome)\n",
    "        \n",
    "        # Lê o conteúdo do arquivo TXT\n",
    "        with open(arquivo_path, 'r', encoding='utf-8') as txt_file:\n",
    "            diario = txt_file.read()\n",
    "\n",
    "        # Processa o diário com spaCy\n",
    "        doc = nlp(diario)\n",
    "        \n",
    "        # Encontrar aparições da palavra \"saúde\" seguida por \"$\" com contexto\n",
    "        for i, token in enumerate(doc[:-1]):  \n",
    "            if token.text.lower() == 'saúde' and '$' in doc[i + 1 : i + 10].text.lower():\n",
    "                contexto_start = max(0, i - 3)  \n",
    "                contexto_end = min(len(doc), i + 18)  \n",
    "                contexto = doc[contexto_start:contexto_end].text\n",
    "\n",
    "                # Verifica se o contexto_start já foi registrado\n",
    "                if contexto_start not in contextos_registrados:\n",
    "                    # Adiciona o contexto_start à lista de contextos registrados\n",
    "                    contextos_registrados.add(contexto_start)\n",
    "                    print(f\"Aparição em {arquivo_nome}, posição {i + 1}: Palavra 'saúde' encontrada com contexto: {contexto}\")\n"
   ]
  }
 ],
 "metadata": {
  "kernelspec": {
   "display_name": "Python 3",
   "language": "python",
   "name": "python3"
  },
  "language_info": {
   "codemirror_mode": {
    "name": "ipython",
    "version": 3
   },
   "file_extension": ".py",
   "mimetype": "text/x-python",
   "name": "python",
   "nbconvert_exporter": "python",
   "pygments_lexer": "ipython3",
   "version": "3.10.12"
  }
 },
 "nbformat": 4,
 "nbformat_minor": 2
}
